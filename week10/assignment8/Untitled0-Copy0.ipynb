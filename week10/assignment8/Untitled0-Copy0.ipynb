{
 "metadata": {
  "name": "",
  "signature": "sha256:6abffe5262909691e7d45dfc05e6fff8b02d16e70fc2fd290f474be27d252583"
 },
 "nbformat": 3,
 "nbformat_minor": 0,
 "worksheets": [
  {
   "cells": [
    {
     "cell_type": "code",
     "collapsed": false,
     "input": [
      "import argparse,csv,sys,os\n",
      "import numpy as np\n",
      "import pandas as pd\n",
      "from matplotlib import pyplot as plt\n",
      "from pandas.tools.plotting import scatter_matrix as scatter\n",
      "from pandas.io.stata import read_stata as rd_stata\n",
      "import statsmodels.api as sm\n",
      "from statsmodels.sandbox.regression.predstd import wls_prediction_std\n",
      "\n",
      "dta_filename = 'stocks.dat' \n",
      "df = pd.read_csv(dta_filename) \n"
     ],
     "language": "python",
     "metadata": {},
     "outputs": [],
     "prompt_number": 30
    },
    {
     "cell_type": "code",
     "collapsed": false,
     "input": [
      "df.ix[:,0].max()"
     ],
     "language": "python",
     "metadata": {},
     "outputs": [
      {
       "metadata": {},
       "output_type": "pyout",
       "prompt_number": 43,
       "text": [
        "'2008-09'"
       ]
      }
     ],
     "prompt_number": 43
    },
    {
     "cell_type": "code",
     "collapsed": false,
     "input": [
      "plt.figure(figsize=(12, 12), dpi=80, facecolor='w', edgecolor='k')\n",
      "df[\"apple\"].plot(style='.-')\n",
      "plt.title('Apple Stock')\n",
      "plt.xlabel('date')\n",
      "plt.ylabel('stock value')\n",
      "\n",
      "plt.ylim(40,240)\n",
      "plt.show()"
     ],
     "language": "python",
     "metadata": {},
     "outputs": [],
     "prompt_number": 52
    },
    {
     "cell_type": "code",
     "collapsed": false,
     "input": [],
     "language": "python",
     "metadata": {},
     "outputs": [],
     "prompt_number": 31
    },
    {
     "cell_type": "code",
     "collapsed": false,
     "input": [],
     "language": "python",
     "metadata": {},
     "outputs": [],
     "prompt_number": 31
    },
    {
     "cell_type": "code",
     "collapsed": false,
     "input": [],
     "language": "python",
     "metadata": {},
     "outputs": [],
     "prompt_number": 31
    },
    {
     "cell_type": "code",
     "collapsed": false,
     "input": [],
     "language": "python",
     "metadata": {},
     "outputs": []
    }
   ],
   "metadata": {}
  }
 ]
}