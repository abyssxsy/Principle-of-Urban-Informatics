{
 "metadata": {
  "name": "",
  "signature": "sha256:1761305e288d5d77f5c745e93040947a06c4c4500aa58540d9c8c4ccd4dd8b81"
 },
 "nbformat": 3,
 "nbformat_minor": 0,
 "worksheets": []
}