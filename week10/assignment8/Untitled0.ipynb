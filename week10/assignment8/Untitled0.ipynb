{
 "metadata": {
  "name": "",
  "signature": "sha256:b9a6780ab97055b23174bd442c924dc1603f06b58e2aec0f9cddf6f68ed20960"
 },
 "nbformat": 3,
 "nbformat_minor": 0,
 "worksheets": [
  {
   "cells": [
    {
     "cell_type": "code",
     "collapsed": false,
     "input": [
      "import argparse,csv,sys,os\n",
      "from datetime import date,datetime,timedelta\n",
      "import numpy as np\n",
      "import pandas as pd\n",
      "import matplotlib\n",
      "from matplotlib import pyplot as plt\n",
      "from matplotlib.dates import date2num\n",
      "#import matplotlib.dates as mdates\n",
      "from matplotlib.ticker import FuncFormatter\n",
      "\n",
      "\n",
      "filename = 'actions-fall-2007.dat' \n",
      "mainTime = [\"2007-09-18 12:00:00\",\n",
      "            \"2007-09-18 12:00:00\",\n",
      "            \"2007-10-04 12:00:00\",\n",
      "            \"2007-10-25 12:00:00\",\n",
      "            \"2007-11-27 12:00:00\",\n",
      "            \"2007-12-15 12:00:00\",\n",
      "            \"2007-12-11 12:00:00\"]"
     ],
     "language": "python",
     "metadata": {},
     "outputs": [],
     "prompt_number": 149
    },
    {
     "cell_type": "code",
     "collapsed": false,
     "input": [],
     "language": "python",
     "metadata": {},
     "outputs": []
    },
    {
     "cell_type": "code",
     "collapsed": false,
     "input": [
      "timeStamp = [] \n",
      "day_index = set()\n",
      "\n",
      "with open(filename, 'rb') as f:\n",
      "  Reader = csv.reader(f)\n",
      "  headers = next(Reader)\n",
      "\n",
      "  #put initial value as max value->min and the opposite\n",
      "  minDate=datetime.strptime(date.max.isoformat(),\"%Y-%m-%d\")\n",
      "  maxDate=datetime.strptime(date.min.isoformat(),\"%Y-%m-%d\")\n",
      "\n",
      "  for row in Reader:\n",
      "    createdDate = row[0]\n",
      "    #to find min and max time in a data range\n",
      "    curDate = datetime.strptime(createdDate,\"%Y-%m-%d %H:%M:%S\")\n",
      "\n",
      "    #aggregate complaints per day\n",
      "    day_index.add(curDate.strftime(\"%Y-%m-%d\"))\n",
      "\n",
      "    #compare and find min and max date\n",
      "    minDate = min(minDate, curDate)\n",
      "    maxDate = max(maxDate, curDate)\n",
      "\n",
      "    #curDatePerDay=curDate.strftime(\"%Y-%m-%d\")\n",
      "    #curDatePerDay = datetime.strptime(curDatePerDay,\"%Y-%m-%d\")\n",
      "    #timeStamp.append(curDatePerDay)\n",
      "    timeStamp.append(curDate)\n"
     ],
     "language": "python",
     "metadata": {},
     "outputs": [],
     "prompt_number": 159
    },
    {
     "cell_type": "code",
     "collapsed": false,
     "input": [
      "deltaDate = maxDate - minDate\n",
      "nbin = int(deltaDate.days)\n",
      "ind = [date2num(minDate + timedelta(days=x)) for x in range(0, 99,2)]\n",
      "dateList = [(minDate + timedelta(days=x)).strftime(\"%Y-%m-%d\") for x in range(0, 99,2)]\n",
      "\n",
      "\n",
      "#plotting histogram\n",
      "plt.figure(figsize=(24,12))\n",
      "title = \"Submission date \\nbetween %s - %s\" % (minDate,maxDate)\n",
      "alp = .6\n",
      "plt.hist(date2num(timeStamp), nbin, histtype='bar', alpha = alp)\n",
      "plt.xticks(ind,dateList, rotation=45)\n",
      "plt.xlim(date2num(minDate),date2num(maxDate))\n",
      "\n",
      "\n",
      "for dates in mainTime:\n",
      "  tempDate = datetime.strptime(dates,\"%Y-%m-%d %H:%M:%S\")  \n",
      "  plt.axvline(x=date2num(tempDate), linewidth=2, color='r')\n",
      "  plt.text(date2num(tempDate), 8000, 'Deadlines', color = 'r',horizontalalignment='left',rotation='vertical')\n",
      "\n",
      "plt.xlabel('Date')\n",
      "plt.ylabel('Number of submissions')\n",
      "plt.legend(prop={'size': 10})\n",
      "plt.title(title)\n"
     ],
     "language": "python",
     "metadata": {},
     "outputs": [
      {
       "metadata": {},
       "output_type": "pyout",
       "prompt_number": 179,
       "text": [
        "<matplotlib.text.Text at 0x7f80814c5810>"
       ]
      }
     ],
     "prompt_number": 179
    },
    {
     "cell_type": "code",
     "collapsed": false,
     "input": [],
     "language": "python",
     "metadata": {},
     "outputs": []
    },
    {
     "cell_type": "code",
     "collapsed": false,
     "input": [
      "plt.show()\n"
     ],
     "language": "python",
     "metadata": {},
     "outputs": [],
     "prompt_number": 180
    },
    {
     "cell_type": "code",
     "collapsed": false,
     "input": [],
     "language": "python",
     "metadata": {},
     "outputs": [],
     "prompt_number": 34
    },
    {
     "cell_type": "code",
     "collapsed": false,
     "input": [],
     "language": "python",
     "metadata": {},
     "outputs": [],
     "prompt_number": 52
    },
    {
     "cell_type": "code",
     "collapsed": false,
     "input": [],
     "language": "python",
     "metadata": {},
     "outputs": [],
     "prompt_number": 31
    },
    {
     "cell_type": "code",
     "collapsed": false,
     "input": [],
     "language": "python",
     "metadata": {},
     "outputs": [],
     "prompt_number": 31
    },
    {
     "cell_type": "code",
     "collapsed": false,
     "input": [],
     "language": "python",
     "metadata": {},
     "outputs": [],
     "prompt_number": 31
    },
    {
     "cell_type": "code",
     "collapsed": false,
     "input": [],
     "language": "python",
     "metadata": {},
     "outputs": []
    }
   ],
   "metadata": {}
  }
 ]
}