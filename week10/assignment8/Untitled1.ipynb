{
 "metadata": {
  "name": "",
  "signature": "sha256:64724d5eee40c33597bc13db2289d4437cf049d850b1c1db53affde136d233f7"
 },
 "nbformat": 3,
 "nbformat_minor": 0,
 "worksheets": [
  {
   "cells": [
    {
     "cell_type": "code",
     "collapsed": false,
     "input": [
      "import argparse,csv,sys,os\n",
      "import numpy as np\n",
      "import matplotlib\n",
      "from matplotlib import pyplot as plt\n",
      "\n",
      "filename = 'microprocessors.dat'\n",
      "\n",
      "\n"
     ],
     "language": "python",
     "metadata": {},
     "outputs": [],
     "prompt_number": 3
    },
    {
     "cell_type": "code",
     "collapsed": false,
     "input": [
      "dataList = []\n",
      "cpuName = []\n",
      "releasedYear = []\n",
      "numTransistor = []\n",
      "\n",
      "#iterate each row\n",
      "with open(filename, 'rb') as f:\n",
      "  Reader = csv.reader(f)\n",
      "  headers = next(Reader)\n",
      "  for row in Reader:\n",
      "    dataList.append((row[0],int(row[1]),int(row[2])))\n",
      "    #cpuName.append(row[0])\n",
      "    #releasedYear.append(row[1])\n",
      "    #numTransistor.append(row[2])  \n",
      "\n",
      "dataListSorted = sorted(dataList, key=lambda x: (x[1]))\n",
      "for elem in dataListSorted:\n",
      "  cpuName.append(elem[0])\n",
      "  releasedYear.append(elem[1])\n",
      "  numTransistor.append(elem[2])\n",
      "\n",
      "ind = np.arange(len(cpuName))\n",
      "\n"
     ],
     "language": "python",
     "metadata": {},
     "outputs": [],
     "prompt_number": 21
    },
    {
     "cell_type": "code",
     "collapsed": false,
     "input": [
      "print dataListSorted\n",
      "print cpuName,len(cpuName)\n",
      "print ind,len(ind)"
     ],
     "language": "python",
     "metadata": {},
     "outputs": [
      {
       "output_type": "stream",
       "stream": "stdout",
       "text": [
        "[('4004', 1971, 2250), ('8008', 1972, 2500), ('8080', 1974, 5000), ('8086', 1978, 29000), ('286', 1982, 120000), ('386TM processor', 1985, 275000), ('486TM DX processor', 1989, 1600000), ('Pentium processor', 1993, 3100000), ('Pentium II processor', 1997, 7500000), ('Pentium III processor', 1999, 24000000), ('Pentium 4 processor', 2000, 42000000), ('Xeon', 2002, 169000000), ('Itanium', 2003, 410000000)]\n",
        "['4004', '8008', '8080', '8086', '286', '386TM processor', '486TM DX processor', 'Pentium processor', 'Pentium II processor', 'Pentium III processor', 'Pentium 4 processor', 'Xeon', 'Itanium'] 13\n",
        "[ 0  1  2  3  4  5  6  7  8  9 10 11 12] 13\n"
       ]
      }
     ],
     "prompt_number": 22
    }
   ],
   "metadata": {}
  }
 ]
}