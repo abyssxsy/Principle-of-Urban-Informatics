{
 "metadata": {
  "name": "",
  "signature": "sha256:4d7cf2eecd2ea86417bf41702deaee1e598b1eb57984692daecdbb7bde8bb271"
 },
 "nbformat": 3,
 "nbformat_minor": 0,
 "worksheets": [
  {
   "cells": [
    {
     "cell_type": "code",
     "collapsed": false,
     "input": [
      "import argparse,csv,sys,os\n",
      "from datetime import date,datetime\n",
      "import numpy as np\n",
      "import pandas as pd\n",
      "import matplotlib\n",
      "from matplotlib import pyplot as plt\n",
      "from pandas.tools.plotting import scatter_matrix as scatter\n",
      "from pandas.io.stata import read_stata as rd_stata\n",
      "import statsmodels.api as sm\n",
      "from statsmodels.sandbox.regression.predstd import wls_prediction_std\n",
      "\n",
      "filename = 'genes.dat'\n"
     ],
     "language": "python",
     "metadata": {},
     "outputs": [],
     "prompt_number": 2
    },
    {
     "cell_type": "code",
     "collapsed": false,
     "input": [
      "df = pd.read_csv(filename)                              \n",
      "fig, axes = plt.subplots(2, 2, sharex=True, sharey=True)\n",
      "correlationTable = df.corr(method='pearson', min_periods=1)\n",
      "print correlationTable\n"
     ],
     "language": "python",
     "metadata": {},
     "outputs": [
      {
       "output_type": "stream",
       "stream": "stdout",
       "text": [
        "          A         B         C         D\n",
        "A  1.000000 -0.043234  0.985660  0.854602\n",
        "B -0.043234  1.000000 -0.038650 -0.000374\n",
        "C  0.985660 -0.038650  1.000000  0.832929\n",
        "D  0.854602 -0.000374  0.832929  1.000000\n"
       ]
      }
     ],
     "prompt_number": 7
    },
    {
     "cell_type": "code",
     "collapsed": false,
     "input": [
      "result = correlationTable.sort(['A'], ascending=[0])\n",
      "print result"
     ],
     "language": "python",
     "metadata": {},
     "outputs": [
      {
       "output_type": "stream",
       "stream": "stdout",
       "text": [
        "          A         B         C         D\n",
        "A  1.000000 -0.043234  0.985660  0.854602\n",
        "C  0.985660 -0.038650  1.000000  0.832929\n",
        "D  0.854602 -0.000374  0.832929  1.000000\n",
        "B -0.043234  1.000000 -0.038650 -0.000374\n"
       ]
      }
     ],
     "prompt_number": 14
    },
    {
     "cell_type": "code",
     "collapsed": false,
     "input": [
      "result.ix[1:,0].index.tolist()\n"
     ],
     "language": "python",
     "metadata": {},
     "outputs": [
      {
       "metadata": {},
       "output_type": "pyout",
       "prompt_number": 30,
       "text": [
        "['C', 'D', 'B']"
       ]
      }
     ],
     "prompt_number": 30
    },
    {
     "cell_type": "code",
     "collapsed": false,
     "input": [
      "pd.scatter_matrix(df, alpha=0.2, figsize=(6, 6), diagonal='kde')\n",
      "plt.show()"
     ],
     "language": "python",
     "metadata": {},
     "outputs": []
    }
   ],
   "metadata": {}
  }
 ]
}